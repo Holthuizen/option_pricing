{
 "cells": [
  {
   "cell_type": "code",
   "execution_count": 9,
   "metadata": {},
   "outputs": [
    {
     "data": {
      "text/plain": [
       "np.float64(3.4405031854011443)"
      ]
     },
     "execution_count": 9,
     "metadata": {},
     "output_type": "execute_result"
    }
   ],
   "source": [
    "#hardcode it all\n",
    "import numpy as np \n",
    "\n",
    "a = np.array([27/64, 27/64, 9/64, 1/64])\n",
    "b = np.array([0, 1.1, 20.9, 37.1])\n",
    "np.dot(a,b)/(1+0.05)**3"
   ]
  },
  {
   "cell_type": "code",
   "execution_count": 12,
   "metadata": {},
   "outputs": [],
   "source": [
    "u = 1.1 \n",
    "d = 0.9 \n",
    "r = 0.05 \n",
    "p = ((1 + r) - d)/ (u-d)"
   ]
  },
  {
   "cell_type": "code",
   "execution_count": null,
   "metadata": {},
   "outputs": [
    {
     "data": {
      "text/plain": [
       "array([27., 27.,  9.,  1.])"
      ]
     },
     "execution_count": 17,
     "metadata": {},
     "output_type": "execute_result"
    }
   ],
   "source": [
    "#todo extend this to a general model that scales with n\n",
    "c = np.array([\n",
    "    p**3, \n",
    "    (3*p**2)*(1-p), \n",
    "    (3*p)*((1-p)**2), \n",
    "    (1-p)**3\n",
    "])\n",
    "c*64"
   ]
  },
  {
   "cell_type": "code",
   "execution_count": null,
   "metadata": {},
   "outputs": [
    {
     "data": {
      "text/plain": [
       "np.float64(3.440503185401138)"
      ]
     },
     "execution_count": 37,
     "metadata": {},
     "output_type": "execute_result"
    }
   ],
   "source": [
    "def option_values_at_n(n, S0, strike, u, d): \n",
    "    \"\"\"initialize 2 arrays one for up and one for down moves, that serve as the exponents \"\"\"\n",
    "    nu = np.arange(n, -1, -1) \n",
    "    nd = np.arange(0,n+1, 1)\n",
    "\n",
    "    #asset value at step n\n",
    "    Sn = S0 * (u**(nu) * d**(nd))\n",
    "    return np.maximum(strike - Sn, np.zeros(n+1))\n",
    "\n",
    "\n",
    "p = ((1 + r) - d)/ (u-d)\n",
    "discount  = lambda n, r: 1/(1+r)**n\n",
    "\n",
    "values = option_values_at_n(3, 100,110,1.1, 0.9)\n",
    "\n",
    "expected = lambda options, dist, discount: np.dot(dist,options)*discount\n",
    "\n",
    "expected(values, c, discount(3, 0.05))"
   ]
  },
  {
   "cell_type": "code",
   "execution_count": 27,
   "metadata": {},
   "outputs": [
    {
     "data": {
      "text/plain": [
       "1.1576250000000001"
      ]
     },
     "execution_count": 27,
     "metadata": {},
     "output_type": "execute_result"
    }
   ],
   "source": [
    "discount(3,0.05)"
   ]
  },
  {
   "cell_type": "code",
   "execution_count": null,
   "metadata": {},
   "outputs": [],
   "source": []
  }
 ],
 "metadata": {
  "kernelspec": {
   "display_name": ".venv",
   "language": "python",
   "name": "python3"
  },
  "language_info": {
   "codemirror_mode": {
    "name": "ipython",
    "version": 3
   },
   "file_extension": ".py",
   "mimetype": "text/x-python",
   "name": "python",
   "nbconvert_exporter": "python",
   "pygments_lexer": "ipython3",
   "version": "3.13.0"
  }
 },
 "nbformat": 4,
 "nbformat_minor": 2
}
